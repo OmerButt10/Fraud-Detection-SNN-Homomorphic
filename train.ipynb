{
 "cells": [
  {
   "cell_type": "code",
   "execution_count": null,
   "metadata": {},
   "outputs": [],
   "source": [
    "import numpy as np  # type: ignore\n",
    "import json\n",
    "import torch  # type: ignore\n",
    "import torch.nn as nn  # type: ignore\n",
    "import torch.optim as optim  # type: ignore\n",
    "from sklearn.metrics import classification_report, confusion_matrix  # type: ignore\n",
    "from snn import FraudSNN\n",
    "from torch.utils.data import TensorDataset, DataLoader  # type: ignore\n",
    "from dataset import load_dataset, rate_code\n",
    "import matplotlib.pyplot as plt  # type: ignore\n",
    "import seaborn as sns # type: ignore"
   ]
  },
  {
   "cell_type": "code",
   "execution_count": null,
   "metadata": {},
   "outputs": [],
   "source": [
    "device = torch.device(\"cpu\")"
   ]
  },
  {
   "cell_type": "code",
   "execution_count": null,
   "metadata": {},
   "outputs": [],
   "source": [
    "with open(\"config.json\", \"r\") as file:\n",
    "    Config = json.load(file)"
   ]
  },
  {
   "cell_type": "code",
   "execution_count": null,
   "metadata": {},
   "outputs": [],
   "source": [
    "def train_model(model, train_loader, val_loader, num_epochs=20, lr=1e-3, device=\"cpu\"):\n",
    "    criterion = nn.BCELoss()\n",
    "    optimizer = optim.Adam(model.parameters(), lr=lr)\n",
    "    model.to(device)\n",
    "\n",
    "    train_losses = []\n",
    "    val_losses = []\n",
    "\n",
    "    print(\"\\nStarting training on device:\", device)\n",
    "    for epoch in range(num_epochs):\n",
    "        model.train()\n",
    "        running_loss = 0.0\n",
    "        for X_batch, y_batch in train_loader:\n",
    "            X_batch, y_batch = X_batch.to(device), y_batch.to(device)\n",
    "            optimizer.zero_grad()\n",
    "            outputs = model(X_batch)\n",
    "            loss = criterion(outputs, y_batch)\n",
    "            loss.backward()\n",
    "            optimizer.step()\n",
    "            running_loss += loss.item() * X_batch.size(0)\n",
    "        epoch_loss = running_loss / len(train_loader.dataset)\n",
    "        train_losses.append(epoch_loss)\n",
    "\n",
    "        # Validation\n",
    "        model.eval()\n",
    "        val_loss = 0.0\n",
    "        correct = 0\n",
    "        with torch.no_grad():\n",
    "            for X_val_batch, y_val_batch in val_loader:\n",
    "                X_val_batch, y_val_batch = X_val_batch.to(device), y_val_batch.to(\n",
    "                    device\n",
    "                )\n",
    "                outputs = model(X_val_batch)\n",
    "                loss = criterion(outputs, y_val_batch)\n",
    "                val_loss += loss.item() * X_val_batch.size(0)\n",
    "                predictions = (outputs > 0.5).float()\n",
    "                correct += (predictions == y_val_batch).sum().item()\n",
    "        val_loss /= len(val_loader.dataset)\n",
    "        val_losses.append(val_loss)\n",
    "        accuracy = correct / len(val_loader.dataset)\n",
    "        print(\n",
    "            f\"Epoch {epoch+1}/{num_epochs} - Train Loss: {epoch_loss:.4f} - Val Loss: {val_loss:.4f} - Val Acc: {accuracy:.4f}\"\n",
    "        )\n",
    "    return model, train_losses, val_losses"
   ]
  },
  {
   "cell_type": "code",
   "execution_count": null,
   "metadata": {},
   "outputs": [],
   "source": [
    "def evaluate_model(model, test_loader, device=\"cpu\"):\n",
    "    model.eval()\n",
    "    all_preds = []\n",
    "    all_labels = []\n",
    "    with torch.no_grad():\n",
    "        for X_test_batch, y_test_batch in test_loader:\n",
    "            X_test_batch = X_test_batch.to(device)\n",
    "            outputs = model(X_test_batch)\n",
    "            preds = (outputs > 0.5).int().cpu().numpy()\n",
    "            all_preds.extend(preds)\n",
    "            all_labels.extend(y_test_batch.cpu().numpy())\n",
    "    print(\"\\nClassification Report:\")\n",
    "    print(classification_report(all_labels, all_preds))\n",
    "    return all_preds, all_labels"
   ]
  },
  {
   "cell_type": "code",
   "execution_count": null,
   "metadata": {},
   "outputs": [],
   "source": [
    "def plot_loss(train_loss, val_loss):\n",
    "    plt.figure(figsize=(10, 5))\n",
    "    plt.plot(train_loss, label=\"Train Loss\")\n",
    "    plt.plot(val_loss, label=\"Validation Loss\")\n",
    "    plt.xlabel(\"Epochs\")\n",
    "    plt.ylabel(\"Loss\")\n",
    "    plt.title(\"Training and Validation Loss\")\n",
    "    plt.legend()\n",
    "    plt.show()\n",
    "\n",
    "def plot_confusion_matrix(y_true, y_pred):\n",
    "    cm = confusion_matrix(y_true, y_pred)\n",
    "    plt.figure(figsize=(10, 7))\n",
    "    sns.heatmap(cm, annot=True, fmt=\"d\", cmap=\"Blues\")\n",
    "    plt.xlabel(\"Predicted\")\n",
    "    plt.ylabel(\"True\")\n",
    "    plt.title(\"Confusion Matrix\")\n",
    "    plt.show()"
   ]
  },
  {
   "cell_type": "code",
   "execution_count": null,
   "metadata": {},
   "outputs": [],
   "source": [
    "def save_model(model, filename=\"saved_models/snn_model.pth\"):\n",
    "    torch.save(model.state_dict(), filename)\n",
    "    print(f\"Model saved to {filename}\")\n",
    "\n",
    "\n",
    "def save_model_scripted(model, filename=\"saved_models/snn_scripted.pt\"):\n",
    "    scripted_model = torch.jit.script(model)\n",
    "    scripted_model.save(filename)\n",
    "    print(f\"Scripted model saved to {filename}\")"
   ]
  },
  {
   "cell_type": "code",
   "execution_count": null,
   "metadata": {},
   "outputs": [],
   "source": [
    "\n",
    "# Load the dataset\n",
    "X_train, X_test, X_val, y_val, y_train, y_test = load_dataset(\n",
    "    Config[\"dataset_path\"], Config[\"dataset_frac\"], Config[\"validation_split\"]\n",
    ")\n",
    "# Convert each sample into a spike train. The output shape will be [samples, time_steps, features]\n",
    "X_train_spikes = np.array([rate_code(row) for row in X_train])\n",
    "X_val_spikes = np.array([rate_code(row) for row in X_val])\n",
    "X_test_spikes = np.array([rate_code(row) for row in X_test])\n",
    "\n",
    "# Prepare PyTorch Datasets and DataLoaders\n",
    "X_train_tensor = torch.tensor(X_train_spikes, dtype=torch.float32)\n",
    "y_train_tensor = torch.tensor(y_train, dtype=torch.float32).unsqueeze(1)\n",
    "X_val_tensor = torch.tensor(X_val_spikes, dtype=torch.float32)\n",
    "y_val_tensor = torch.tensor(y_val, dtype=torch.float32).unsqueeze(1)\n",
    "X_test_tensor = torch.tensor(X_test_spikes, dtype=torch.float32)\n",
    "y_test_tensor = torch.tensor(y_test, dtype=torch.float32).unsqueeze(1)\n",
    "\n",
    "train_dataset = TensorDataset(X_train_tensor, y_train_tensor)\n",
    "val_dataset = TensorDataset(X_val_tensor, y_val_tensor)\n",
    "test_dataset = TensorDataset(X_test_tensor, y_test_tensor)\n",
    "\n",
    "train_loader = DataLoader(train_dataset, batch_size=64, shuffle=True)\n",
    "val_loader = DataLoader(val_dataset, batch_size=64, shuffle=False)\n",
    "test_loader = DataLoader(test_dataset, batch_size=64, shuffle=False)"
   ]
  },
  {
   "cell_type": "code",
   "execution_count": null,
   "metadata": {},
   "outputs": [],
   "source": [
    "model = FraudSNN(input_size=11, hidden_size=64, time_steps=10, beta=0.9, threshold=1.0)"
   ]
  },
  {
   "cell_type": "code",
   "execution_count": null,
   "metadata": {},
   "outputs": [],
   "source": [
    "model, train_loss, val_loss = train_model(\n",
    "    model, train_loader, val_loader, num_epochs=50, lr=1e-3, device=device\n",
    ")"
   ]
  },
  {
   "cell_type": "code",
   "execution_count": null,
   "metadata": {},
   "outputs": [],
   "source": [
    "all_labels,all_preds = evaluate_model(model, test_loader, device=device)"
   ]
  },
  {
   "cell_type": "code",
   "execution_count": null,
   "metadata": {},
   "outputs": [],
   "source": [
    "# -------------------------\n",
    "# Plot Confusion Matrix\n",
    "# -------------------------\n",
    "plot_confusion_matrix(all_labels, all_preds)\n",
    "\n",
    "# -------------------------\n",
    "# Plot Loss Curves\n",
    "# -------------------------\n",
    "plot_loss(train_loss, val_loss)"
   ]
  },
  {
   "cell_type": "code",
   "execution_count": null,
   "metadata": {},
   "outputs": [],
   "source": [
    "save_model(model, filename=\"saved_models/snn_model.pt\")\n",
    "\n",
    "save_model_scripted(model, filename=\"saved_models/snn_scripted.pt\")"
   ]
  },
  {
   "cell_type": "code",
   "execution_count": null,
   "metadata": {},
   "outputs": [],
   "source": []
  }
 ],
 "metadata": {
  "language_info": {
   "name": "python"
  }
 },
 "nbformat": 4,
 "nbformat_minor": 2
}
